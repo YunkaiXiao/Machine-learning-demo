{
 "cells": [
  {
   "cell_type": "code",
   "execution_count": 26,
   "metadata": {},
   "outputs": [],
   "source": [
    "import numpy as np\n",
    "from sklearn.linear_model import LogisticRegression\n",
    "import seaborn as sns\n",
    "from sklearn import metrics\n",
    "from struct import unpack\n",
    "import matplotlib.pyplot as plt"
   ]
  },
  {
   "cell_type": "code",
   "execution_count": 7,
   "metadata": {},
   "outputs": [],
   "source": [
    "def load_mnist(image_file_name, label_file_name):\n",
    "    images = open(image_file_name, 'rb')\n",
    "    labels = open(label_file_name, 'rb')\n",
    "    \n",
    "    images.read(4) # I guess this is to dump some format specific non-data\n",
    "    number_of_images = images.read(4) # I guess these bits actually have described how many images there are?\n",
    "    number_of_images = unpack('>I', number_of_images)[0] # Okay this might be the decoding part.\n",
    "    rows = images.read(4)\n",
    "    rows = unpack('>I', rows)[0]\n",
    "    cols = images.read(4)\n",
    "    cols = unpack('>I', cols)[0]\n",
    "    labels.read(4) # this is once again just dumping 4 bytes for some reason\n",
    "    N = labels.read(4)\n",
    "    N = unpack('>I', N)[0] # Based on above, assuming this is the number of labels?\n",
    "    \n",
    "    total_number_pixels = rows * cols\n",
    "    x = np.zeros((N, total_number_pixels), dtype=np.uint8) # N should be the same as number_of_images right?\n",
    "    y = np.zeros(N, dtype=np.uint8) # Same, initialize with 0s\n",
    "    for i in range(N):\n",
    "        for j in range(total_number_pixels):\n",
    "            tmp_pixel = images.read(1) # Read a pixel\n",
    "            tmp_pixel = unpack('>B', tmp_pixel)[0] # Unpack with some other decoder?\n",
    "            x[i][j] = tmp_pixel # Put pixel value into bitmap (flated into 1D per image)\n",
    "        tmp_label = labels.read(1)\n",
    "        y[i] = unpack('>B', tmp_label)[0] # Why are we using this decoder instead of >I again?\n",
    "        \n",
    "    images.close()\n",
    "    labels.close()\n",
    "    return (x,y)"
   ]
  },
  {
   "cell_type": "code",
   "execution_count": 39,
   "metadata": {},
   "outputs": [],
   "source": [
    "train_img, train_lbl = load_mnist('../MNIST_dataset/train-images.idx3-ubyte', '../MNIST_dataset/train-labels.idx1-ubyte')\n",
    "test_img, test_lbl = load_mnist('../MNIST_dataset/t10k-images.idx3-ubyte', '../MNIST_dataset/t10k-labels.idx1-ubyte')"
   ]
  },
  {
   "cell_type": "code",
   "execution_count": 40,
   "metadata": {},
   "outputs": [],
   "source": [
    "num_train_img = train_img.shape[0]\n",
    "train_img, validate_img = train_img[:int(0.8*num_train_img)], train_img[int(0.8*num_train_img):]\n",
    "train_lbl, validate_lbl = train_lbl[:int(0.8*num_train_img)], train_lbl[int(0.8*num_train_img):]"
   ]
  },
  {
   "cell_type": "code",
   "execution_count": 9,
   "metadata": {},
   "outputs": [
    {
     "data": {
      "text/plain": [
       "(60000, 784)"
      ]
     },
     "execution_count": 9,
     "metadata": {},
     "output_type": "execute_result"
    }
   ],
   "source": [
    "train_img.shape"
   ]
  },
  {
   "cell_type": "code",
   "execution_count": 11,
   "metadata": {},
   "outputs": [
    {
     "data": {
      "text/plain": [
       "(60000,)"
      ]
     },
     "execution_count": 11,
     "metadata": {},
     "output_type": "execute_result"
    }
   ],
   "source": [
    "train_lbl.shape"
   ]
  },
  {
   "cell_type": "code",
   "execution_count": 12,
   "metadata": {},
   "outputs": [
    {
     "data": {
      "text/plain": [
       "(10000, 784)"
      ]
     },
     "execution_count": 12,
     "metadata": {},
     "output_type": "execute_result"
    }
   ],
   "source": [
    "test_img.shape"
   ]
  },
  {
   "cell_type": "code",
   "execution_count": 13,
   "metadata": {},
   "outputs": [
    {
     "data": {
      "text/plain": [
       "(10000,)"
      ]
     },
     "execution_count": 13,
     "metadata": {},
     "output_type": "execute_result"
    }
   ],
   "source": [
    "test_lbl.shape"
   ]
  },
  {
   "cell_type": "code",
   "execution_count": 16,
   "metadata": {},
   "outputs": [],
   "source": [
    "lr_model = LogisticRegression(solver='lbfgs', n_jobs=-1, verbose=1) # I'd actually like to see what's printed"
   ]
  },
  {
   "cell_type": "code",
   "execution_count": 15,
   "metadata": {},
   "outputs": [
    {
     "data": {
      "text/plain": [
       "LogisticRegression(C=1.0, class_weight=None, dual=False, fit_intercept=True,\n",
       "          intercept_scaling=1, max_iter=100, multi_class='ovr', n_jobs=1,\n",
       "          penalty='l2', random_state=None, solver='lbfgs', tol=0.0001,\n",
       "          verbose=0, warm_start=False)"
      ]
     },
     "execution_count": 15,
     "metadata": {},
     "output_type": "execute_result"
    }
   ],
   "source": [
    "lr_model"
   ]
  },
  {
   "cell_type": "code",
   "execution_count": 18,
   "metadata": {},
   "outputs": [
    {
     "data": {
      "text/plain": [
       "LogisticRegression(C=1.0, class_weight=None, dual=False, fit_intercept=True,\n",
       "          intercept_scaling=1, max_iter=100, multi_class='ovr', n_jobs=-1,\n",
       "          penalty='l2', random_state=None, solver='lbfgs', tol=0.0001,\n",
       "          verbose=0, warm_start=False)"
      ]
     },
     "execution_count": 18,
     "metadata": {},
     "output_type": "execute_result"
    }
   ],
   "source": [
    "lr_model.fit(train_img,train_lbl)"
   ]
  },
  {
   "cell_type": "code",
   "execution_count": 19,
   "metadata": {},
   "outputs": [
    {
     "data": {
      "text/plain": [
       "0.91825"
      ]
     },
     "execution_count": 19,
     "metadata": {},
     "output_type": "execute_result"
    }
   ],
   "source": [
    "lr_model.score(validate_img, validate_lbl)"
   ]
  },
  {
   "cell_type": "code",
   "execution_count": 22,
   "metadata": {},
   "outputs": [],
   "source": [
    "# So in the document it says \"Inverse of regularization strength; must be a positive float. \n",
    "# Like in support vector machines, smaller values specify stronger regularization.\"\n",
    "# What does this mean? Could larger C mean it's going to over fit?\n",
    "C_param_range = [0.001,0.01,0.1,1.0,10.0,100.0,1000.0]\n",
    "train_accuracy = []\n",
    "validate_accuracy = []"
   ]
  },
  {
   "cell_type": "code",
   "execution_count": 23,
   "metadata": {},
   "outputs": [],
   "source": [
    "for c in C_param_range:\n",
    "    lr_model = LogisticRegression(solver='lbfgs', n_jobs=-1, C=c)\n",
    "    lr_model.fit(train_img,train_lbl)\n",
    "    train_accuracy.append(lr_model.score(train_img,train_lbl))\n",
    "    validate_accuracy.append(lr_model.score(validate_img, validate_lbl))"
   ]
  },
  {
   "cell_type": "code",
   "execution_count": 28,
   "metadata": {},
   "outputs": [
    {
     "data": {
      "image/png": "[encoded data removed]",
      "text/plain": [
       "<Figure size 432x288 with 1 Axes>"
      ]
     },
     "metadata": {},
     "output_type": "display_data"
    }
   ],
   "source": [
    "plt.plot(range(-3,4), train_accuracy, 'b-', range(-3,4), validate_accuracy, 'r-')\n",
    "plt.legend(('Training accuracy', 'Validation accuracy'))\n",
    "plt.xlabel('C = 10^')\n",
    "plt.show()"
   ]
  },
  {
   "cell_type": "code",
   "execution_count": 41,
   "metadata": {},
   "outputs": [
    {
     "data": {
      "text/plain": [
       "LogisticRegression(C=0.001, class_weight=None, dual=False, fit_intercept=True,\n",
       "          intercept_scaling=1, max_iter=100, multi_class='ovr', n_jobs=-1,\n",
       "          penalty='l2', random_state=None, solver='lbfgs', tol=0.0001,\n",
       "          verbose=0, warm_start=False)"
      ]
     },
     "execution_count": 41,
     "metadata": {},
     "output_type": "execute_result"
    }
   ],
   "source": [
    "# There's really no significant differnences, we'll stick with 10^-3 then, \n",
    "# since it has the highest accuracy and smaller C suppose to mean more general\n",
    "train_img, train_lbl = np.concatenate((train_img, validate_img)), np.concatenate((train_lbl, validate_lbl))\n",
    "lr_model = LogisticRegression(solver='lbfgs', n_jobs=-1, C=0.001)\n",
    "lr_model.fit(train_img,train_lbl)"
   ]
  },
  {
   "cell_type": "code",
   "execution_count": 49,
   "metadata": {},
   "outputs": [],
   "source": [
    "result = lr_model.predict(test_img)\n",
    "# Creat onehot encoding\n",
    "onehot = np.zeros((result.size, 10))\n",
    "onehot[np.arange(result.size), result] = 1\n",
    "np.savetxt('lr.csv', onehot, delimiter=',',fmt='%i')"
   ]
  },
  {
   "cell_type": "code",
   "execution_count": 43,
   "metadata": {},
   "outputs": [
    {
     "name": "stdout",
     "output_type": "stream",
     "text": [
      "0.9175\n"
     ]
    }
   ],
   "source": [
    "# I want to see how well it did\n",
    "print(lr_model.score(test_img, test_lbl))"
   ]
  }
 ],
 "metadata": {
  "kernelspec": {
   "display_name": "Python 3",
   "language": "python",
   "name": "python3"
  },
  "language_info": {
   "codemirror_mode": {
    "name": "ipython",
    "version": 3
   },
   "file_extension": ".py",
   "mimetype": "text/x-python",
   "name": "python",
   "nbconvert_exporter": "python",
   "pygments_lexer": "ipython3",
   "version": "3.5.2"
  }
 },
 "nbformat": 4,
 "nbformat_minor": 2
}
